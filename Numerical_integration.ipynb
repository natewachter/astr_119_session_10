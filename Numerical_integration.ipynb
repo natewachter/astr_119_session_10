{
 "cells": [
  {
   "cell_type": "markdown",
   "metadata": {},
   "source": [
    "# Use Trapezoid, Simpson's Rule, and Romberg integration"
   ]
  },
  {
   "cell_type": "code",
   "execution_count": null,
   "metadata": {},
   "outputs": [],
   "source": [
    "%matplotlib inline\n",
    "import numpy as np\n",
    "import matplotlib.pyplot as plt"
   ]
  },
  {
   "cell_type": "markdown",
   "metadata": {},
   "source": [
    "# Define a function to integrate"
   ]
  },
  {
   "cell_type": "code",
   "execution_count": null,
   "metadata": {},
   "outputs": [],
   "source": [
    "def func(x):\n",
    "    a = 1.01\n",
    "    b = -3.04\n",
    "    c = 2.07\n",
    "    return a*x**2 + b*x + c"
   ]
  },
  {
   "cell_type": "markdown",
   "metadata": {},
   "source": [
    "# Define the integral to check answer"
   ]
  },
  {
   "cell_type": "code",
   "execution_count": null,
   "metadata": {},
   "outputs": [],
   "source": [
    "def func_integral(x):\n",
    "    a = 1.01\n",
    "    b = -3.04\n",
    "    c = 2.07\n",
    "    return (a*x**3)/3. + (b*x**2)/2. + c*x"
   ]
  },
  {
   "cell_type": "markdown",
   "metadata": {},
   "source": [
    "# Define the core of the trapezoid method"
   ]
  },
  {
   "cell_type": "code",
   "execution_count": null,
   "metadata": {},
   "outputs": [],
   "source": [
    "def trapezoid_core(f, x, h):\n",
    "    return 0.5*h*(f(x+h) + f(x))"
   ]
  },
  {
   "cell_type": "markdown",
   "metadata": {},
   "source": [
    "# Define wrapper function to perform trapezoid method"
   ]
  },
  {
   "cell_type": "code",
   "execution_count": null,
   "metadata": {},
   "outputs": [],
   "source": [
    "def trapezoid_method(f,a,b,N):\n",
    "    \n",
    "    # f is function to integrate\n",
    "    # a is lower limit\n",
    "    # b is upper limit\n",
    "    # N is the number of chunks to use\n",
    "    \n",
    "    # define x values for integral\n",
    "    x = np.linspace(a,b,N)\n",
    "    h = x[1]-x[0]\n",
    "    \n",
    "    # define the value of the integral\n",
    "    Fint = 0.0\n",
    "    \n",
    "    # perform the integral using the trapezoid method\n",
    "    for i in range(0,N-1,1):\n",
    "        Fint += trapezoid_core(f,x[i],h)\n",
    "    \n",
    "    # return the answer\n",
    "    return Fint"
   ]
  },
  {
   "cell_type": "markdown",
   "metadata": {},
   "source": [
    "# Test the trapezoid method"
   ]
  },
  {
   "cell_type": "code",
   "execution_count": null,
   "metadata": {},
   "outputs": [],
   "source": [
    "a = 0.0\n",
    "b = 1.0\n",
    "\n",
    "Answer = func_integral(b) - func_integral(a)\n",
    "print(\"True answer = \",Answer)\n",
    "error_prev = 1.0\n",
    "\n",
    "# Trapezoidal approx\n",
    "for N in range(10,100,10):\n",
    "    trap_answer = trapezoid_method(func,a,b,N)\n",
    "    error = (trap_answer - Answer)/Answer\n",
    "    print(\"Trapezoid method \", trap_answer,\" Error \",error,\" improvement \",error_prev/error)\n",
    "    error_prev = error"
   ]
  },
  {
   "cell_type": "markdown",
   "metadata": {},
   "source": [
    "# Define the core of Simpson's method"
   ]
  },
  {
   "cell_type": "code",
   "execution_count": null,
   "metadata": {},
   "outputs": [],
   "source": [
    "def simpsons_core(f, x, h):\n",
    "    return h*( f(x) + 4.*f(x+h) + f(x+2*h))/3."
   ]
  },
  {
   "cell_type": "markdown",
   "metadata": {},
   "source": [
    "# Define a wrapper function for Simpson's method"
   ]
  },
  {
   "cell_type": "code",
   "execution_count": null,
   "metadata": {},
   "outputs": [],
   "source": [
    "def simpsons_method(f,a,b,N):\n",
    "    \n",
    "    # f is function to integrate\n",
    "    # a is lower limit\n",
    "    # b is upper limit\n",
    "    # N is the number of chunks to use\n",
    "    \n",
    "    # define x values for integral\n",
    "    x = np.linspace(a,b,N)\n",
    "    h = x[1]-x[0]\n",
    "    \n",
    "    # define the value of the integral\n",
    "    Fint = 0.0\n",
    "    \n",
    "    # perform the integral using Simpson's method\n",
    "    for i in range(0,N-2,2):\n",
    "        Fint += simpsons_core(f,x[i],h)\n",
    "        \n",
    "    # apply simpson's over the last integral if N is even\n",
    "    if ((N%2)==0):\n",
    "        Fint += simpsons_core(f, x[-2],0.5*h)\n",
    "    \n",
    "    # return the answer\n",
    "    return Fint"
   ]
  },
  {
   "cell_type": "markdown",
   "metadata": {},
   "source": [
    "# Define the romberg integration core"
   ]
  },
  {
   "cell_type": "code",
   "execution_count": null,
   "metadata": {},
   "outputs": [],
   "source": [
    "def romberg_core(f,a,b,i):\n",
    "    \n",
    "    h = b-a\n",
    "    \n",
    "    dh = h/2.**(i)\n",
    "    \n",
    "    K = h/2.**(i+1)\n",
    "    \n",
    "    M = 0.0\n",
    "    for j in range(2**i):\n",
    "        M += f(a + 0.5*dh + j*dh)\n",
    "    \n",
    "    return K*M"
   ]
  },
  {
   "cell_type": "markdown",
   "metadata": {},
   "source": [
    "# Define a wrapper function for Romberg"
   ]
  },
  {
   "cell_type": "code",
   "execution_count": null,
   "metadata": {},
   "outputs": [],
   "source": [
    "def romberg_integration(f,a,b,tol):\n",
    "    \n",
    "    i = 0\n",
    "    \n",
    "    imax = 1000\n",
    "    \n",
    "    # Define an error estimate, set to large value\n",
    "    delta = 100.0*np.fabs(tol)\n",
    "    \n",
    "    # set an array of integral answers\n",
    "    I = np.zeros(imax,dtype=float)\n",
    "    \n",
    "    # get zeroth romberg iteration\n",
    "    I[0] = 0.5*(b-a)* (f(a) + f(b))\n",
    "    \n",
    "    # iterate by 1\n",
    "    i += 1\n",
    "    \n",
    "    while(delta>tol):\n",
    "        \n",
    "        # find romberg iteration\n",
    "        I[i] = 0.5*I[i-1] + romberg_core(f,a,b,i)\n",
    "        \n",
    "        # compute new fractional error estimate\n",
    "        delta = np.fabs((I[i] - I[i-1])/I[i])\n",
    "        \n",
    "        print (i, I[i],I[i-1],delta)\n",
    "        \n",
    "        if (delta>tol):\n",
    "            i+=1\n",
    "            if(i>imax):\n",
    "                print(\"max iterations reached\")\n",
    "                raise StopIteration('Stopping iterations after ',i)\n",
    "    \n",
    "    return I[i]"
   ]
  },
  {
   "cell_type": "markdown",
   "metadata": {},
   "source": [
    "# check the integrals"
   ]
  },
  {
   "cell_type": "code",
   "execution_count": null,
   "metadata": {},
   "outputs": [],
   "source": [
    "Answer = func_integral(1)-func_integral(0)\n",
    "\n",
    "print(\"Answer = \",Answer)\n",
    "print(\"Trapezoid\")\n",
    "print(trapezoid_method(func,0,1,10))\n",
    "print(\"Simpson's method\")\n",
    "print(simpsons_method(func,0,1,10))\n",
    "print(\"Romberg\")\n",
    "tolerance = 1.0e-4\n",
    "RI = romberg_integration(func,0,1,tolerance)\n",
    "print(RI, (RI-Answer)/Answer, tolerance)"
   ]
  },
  {
   "cell_type": "code",
   "execution_count": null,
   "metadata": {},
   "outputs": [],
   "source": []
  }
 ],
 "metadata": {
  "kernelspec": {
   "display_name": "Python 3",
   "language": "python",
   "name": "python3"
  },
  "language_info": {
   "codemirror_mode": {
    "name": "ipython",
    "version": 3
   },
   "file_extension": ".py",
   "mimetype": "text/x-python",
   "name": "python",
   "nbconvert_exporter": "python",
   "pygments_lexer": "ipython3",
   "version": "3.8.6"
  }
 },
 "nbformat": 4,
 "nbformat_minor": 4
}
